{
 "cells": [
  {
   "cell_type": "code",
   "execution_count": 1,
   "metadata": {},
   "outputs": [],
   "source": [
    "import os\n",
    "import re\n",
    "import pandas as pd\n",
    "from bs4 import BeautifulSoup\n",
    "# エンコーディング自動検出用\n",
    "from charset_normalizer import from_path"
   ]
  },
  {
   "cell_type": "code",
   "execution_count": 2,
   "metadata": {},
   "outputs": [],
   "source": [
    "# HTMLファイルが格納されているディレクトリのパス\n",
    "directory = \"www.geocities.co.jp\""
   ]
  },
  {
   "cell_type": "code",
   "execution_count": 3,
   "metadata": {},
   "outputs": [],
   "source": [
    "def extract_text_from_html(file_path):\n",
    "    \"\"\"\n",
    "    HTMLファイルからテキストを抽出する関数\n",
    "    \"\"\"\n",
    "    try:\n",
    "        # charset-normalizerを使ってファイルを自動的に読み込む\n",
    "        result = from_path(file_path).best()\n",
    "        content = str(result)  # decodeの代わりにstr()で文字列に変換\n",
    "        soup = BeautifulSoup(content, 'html.parser')\n",
    "        text = soup.get_text(separator='\\n')\n",
    "        cleaned_text = re.sub(r'\\n+', '\\n', text)\n",
    "        return cleaned_text\n",
    "    except Exception as e:\n",
    "        print(f\"Error reading {file_path}: {e}\")\n",
    "        return None  # エラーが発生した場合、空のテキストを返す"
   ]
  },
  {
   "cell_type": "code",
   "execution_count": 4,
   "metadata": {},
   "outputs": [],
   "source": [
    "def extract_text_recursive_to_df(directory, max_pages=100):\n",
    "    \"\"\"\n",
    "    指定されたディレクトリを再帰的に検索し、HTMLファイルからテキストを抽出し、\n",
    "    ディレクトリ構造をキーとしてDataFrameに格納する関数\n",
    "    \"\"\"\n",
    "    data = []\n",
    "    page_count = 0\n",
    "    \n",
    "    for root, dirs, files in os.walk(directory):\n",
    "        for file in files:\n",
    "            if file.endswith(\".html\") or file.endswith(\".htm\"):\n",
    "                file_path = os.path.join(root, file)\n",
    "                text = \"\".join(extract_text_from_html(file_path))\n",
    "                if text is None: continue\n",
    "                # ディレクトリ構造と抽出したテキストをDataFrameに格納するためリストに追加\n",
    "                data.append({\"directory\": root + \"_\".join(dirs), \"file\": file, \"text\": text[:500]})  # 500文字のみ格納\n",
    "                \n",
    "                page_count += 1\n",
    "                if page_count >= max_pages:\n",
    "                    print(f\"Processed {max_pages} pages. Stopping...\")\n",
    "                    return pd.DataFrame(data)  # DataFrameに変換して返す\n",
    "    \n",
    "    return pd.DataFrame(data)"
   ]
  },
  {
   "cell_type": "code",
   "execution_count": 5,
   "metadata": {},
   "outputs": [
    {
     "name": "stdout",
     "output_type": "stream",
     "text": [
      "Processed 100 pages. Stopping...\n",
      "                                           directory           file  \\\n",
      "0  www.geocities.co.jp/Playtown-Domino/6517gagaga...   geobook.html   \n",
      "1  www.geocities.co.jp/Playtown-Domino/6517gagaga...  seltutei.html   \n",
      "2  www.geocities.co.jp/Playtown-Domino/6517gagaga...    ninjya.html   \n",
      "3  www.geocities.co.jp/Playtown-Domino/6517gagaga...     index.html   \n",
      "4  www.geocities.co.jp/Playtown-Domino/6517gagaga...  geodiary.html   \n",
      "\n",
      "                                                text  \n",
      "0  \\nGGGゲストブック\\n僕のゲストブックです、書き込んでくださった方ありがとうございます！...  \n",
      "1  \\n特捜勇者\\n特捜勇者\\nボルフォッグ\\n \\n設定資料\\n時代設定\\n2007\\n年機械...  \n",
      "2  \\n第1話\\n第\\n1\\n話\\n忍者王誕生！\\n \\n♪ジャジャジャン！\\n \\n時は西暦\\...  \n",
      "3  \\nＧＧＧ奈良支部ドラえもん課\\nＧＧＧ奈良支部ドラえもん課\\n \\n最終更新日：\\n200...  \n",
      "4  \\n我王神地のプラモデル日記\\n私、我王神地の所有しているプラモデルの数々を自慢・・・いや批...  \n"
     ]
    }
   ],
   "source": [
    "# 実行\n",
    "df = extract_text_recursive_to_df(directory)\n",
    "\n",
    "# データフレームを表示\n",
    "print(df.head())"
   ]
  },
  {
   "cell_type": "code",
   "execution_count": 6,
   "metadata": {},
   "outputs": [],
   "source": [
    "df.to_csv(\"extracted_texts.csv\", index=False)\n"
   ]
  }
 ],
 "metadata": {
  "kernelspec": {
   "display_name": "Python 3",
   "language": "python",
   "name": "python3"
  },
  "language_info": {
   "codemirror_mode": {
    "name": "ipython",
    "version": 3
   },
   "file_extension": ".py",
   "mimetype": "text/x-python",
   "name": "python",
   "nbconvert_exporter": "python",
   "pygments_lexer": "ipython3",
   "version": "3.10.9"
  }
 },
 "nbformat": 4,
 "nbformat_minor": 2
}
